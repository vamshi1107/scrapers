{
 "cells": [
  {
   "cell_type": "code",
   "execution_count": null,
   "metadata": {},
   "outputs": [],
   "source": [
    "from bs4 import BeautifulSoup\n",
    "import requests\n",
    "import json\n"
   ]
  },
  {
   "cell_type": "code",
   "execution_count": null,
   "metadata": {},
   "outputs": [],
   "source": [
    "def resize(im):\n",
    "    v = im.split(\"/\")\n",
    "    return \"/\".join(v[0:4]+[\"350\", \"350\"]+v[6:])"
   ]
  },
  {
   "cell_type": "code",
   "execution_count": null,
   "metadata": {},
   "outputs": [],
   "source": [
    "def getData(q,size):\n",
    "    db=[]\n",
    "    try:\n",
    "        for page in range(1,size+1):\n",
    "            content = requests.get(f\"https://www.flipkart.com/search?q={q}&sid=tyy%2C4io&as=on&as-show=on&otracker=AS_QueryStore_OrganicAutoSuggest_1_6_na_na_na&otracker1=AS_QueryStore_OrganicAutoSuggest_1_6_na_na_na&as-pos=1&as-type=RECENT&requestId=795b7b75-1b4c-4d54-87a2-7dba22c60b66&as-backfill=on&page=\"+str(page)).content\n",
    "            soup = BeautifulSoup(content, \"html\")\n",
    "            for i in soup.find_all(\"a\", class_=\"_1fQZEK\"):\n",
    "                p = {}\n",
    "                m = requests.get(\"https://www.flipkart.com\"+i[\"href\"]).content\n",
    "                ms = BeautifulSoup(m, \"html\")\n",
    "                nm = ms.find(\"span\", class_=\"B_NuCI\").text.split(\" \")\n",
    "                p[\"name\"] = \" \".join(nm)\n",
    "                p[\"brand\"] = nm[0]\n",
    "                p[\"quantity\"] = \"5\"\n",
    "                p[\"id\"] = p[\"brand\"].lower()+str(len(db)+1)\n",
    "                p[\"price\"] = ms.find(\"div\", class_=\"_30jeq3 _16Jk6d\").text.replace(\"\\u20b9\",\"\")\n",
    "                mrp = ms.find(\"div\", class_=\"_3I9_wc _2p6lqe\")\n",
    "                if mrp != None:\n",
    "                    p[\"mrp\"] = mrp.text\n",
    "                else:\n",
    "                    p[\"mrp\"] = p[\"price\"]\n",
    "                p[\"images\"] = [resize(str(i[\"src\"]))\n",
    "                               for i in ms.find_all(\"img\", class_=\"q6DClP\")]\n",
    "                p[\"specifications\"] = [i.text for i in ms.find_all(\"li\", class_=\"_21Ahn-\")]\n",
    "                db.append(p)\n",
    "    except Exception:\n",
    "        print(p)\n",
    "\n",
    "    return db\n"
   ]
  },
  {
   "cell_type": "code",
   "execution_count": null,
   "metadata": {},
   "outputs": [],
   "source": [
    "def run(name,pages,save):\n",
    "    data=getData(name,pages)\n",
    "    if save:\n",
    "        with open(name+\"_products.json\", \"w\") as file:\n",
    "            file.write(json.dumps(data, indent=5))\n",
    "        print(f\"Saved {len(data)} products\")\n",
    "        return\n",
    "    return data\n"
   ]
  },
  {
   "cell_type": "code",
   "execution_count": null,
   "metadata": {},
   "outputs": [],
   "source": [
    "run(\"apple\",2,False)"
   ]
  },
  {
   "cell_type": "code",
   "execution_count": null,
   "metadata": {},
   "outputs": [],
   "source": []
  }
 ],
 "metadata": {
  "interpreter": {
   "hash": "40d3a090f54c6569ab1632332b64b2c03c39dcf918b08424e98f38b5ae0af88f"
  },
  "kernelspec": {
   "display_name": "Python 3.8.8 ('base')",
   "language": "python",
   "name": "python3"
  },
  "language_info": {
   "codemirror_mode": {
    "name": "ipython",
    "version": 3
   },
   "file_extension": ".py",
   "mimetype": "text/x-python",
   "name": "python",
   "nbconvert_exporter": "python",
   "pygments_lexer": "ipython3",
   "version": "3.8.8"
  },
  "orig_nbformat": 4
 },
 "nbformat": 4,
 "nbformat_minor": 2
}
